{
 "cells": [
  {
   "cell_type": "code",
   "execution_count": 33,
   "metadata": {},
   "outputs": [],
   "source": [
    "import os\n",
    "import numpy as np\n",
    "import pandas as pd\n",
    "from sklearn.decomposition import KernelPCA\n",
    "from sklearn.decomposition import PCA\n",
    "from sklearn.preprocessing import normalize\n",
    "from sklearn.model_selection import train_test_split\n",
    "from sklearn.linear_model import LinearRegression"
   ]
  },
  {
   "cell_type": "markdown",
   "metadata": {},
   "source": [
    "# Data Preparation"
   ]
  },
  {
   "cell_type": "code",
   "execution_count": 2,
   "metadata": {},
   "outputs": [
    {
     "data": {
      "text/plain": [
       "['SupportData.csv', 'YieldCurve.txt']"
      ]
     },
     "execution_count": 2,
     "metadata": {},
     "output_type": "execute_result"
    }
   ],
   "source": [
    "# Check dataset\n",
    "DATA_DIR = 'data'\n",
    "os.listdir(DATA_DIR)"
   ]
  },
  {
   "cell_type": "code",
   "execution_count": 3,
   "metadata": {},
   "outputs": [
    {
     "data": {
      "text/html": [
       "<div>\n",
       "<style scoped>\n",
       "    .dataframe tbody tr th:only-of-type {\n",
       "        vertical-align: middle;\n",
       "    }\n",
       "\n",
       "    .dataframe tbody tr th {\n",
       "        vertical-align: top;\n",
       "    }\n",
       "\n",
       "    .dataframe thead th {\n",
       "        text-align: right;\n",
       "    }\n",
       "</style>\n",
       "<table border=\"1\" class=\"dataframe\">\n",
       "  <thead>\n",
       "    <tr style=\"text-align: right;\">\n",
       "      <th></th>\n",
       "      <th>Date</th>\n",
       "      <th>1 Mo</th>\n",
       "      <th>3 Mo</th>\n",
       "      <th>6 Mo</th>\n",
       "      <th>1 Yr</th>\n",
       "      <th>2 Yr</th>\n",
       "      <th>3 Yr</th>\n",
       "      <th>5 Yr</th>\n",
       "      <th>7 Yr</th>\n",
       "      <th>10 Yr</th>\n",
       "      <th>20 Yr</th>\n",
       "      <th>30 Yr</th>\n",
       "    </tr>\n",
       "  </thead>\n",
       "  <tbody>\n",
       "    <tr>\n",
       "      <th>0</th>\n",
       "      <td>01/02/90</td>\n",
       "      <td>NaN</td>\n",
       "      <td>7.83</td>\n",
       "      <td>7.89</td>\n",
       "      <td>7.81</td>\n",
       "      <td>7.87</td>\n",
       "      <td>7.90</td>\n",
       "      <td>7.87</td>\n",
       "      <td>7.98</td>\n",
       "      <td>7.94</td>\n",
       "      <td>NaN</td>\n",
       "      <td>8.00</td>\n",
       "    </tr>\n",
       "    <tr>\n",
       "      <th>1</th>\n",
       "      <td>01/03/90</td>\n",
       "      <td>NaN</td>\n",
       "      <td>7.89</td>\n",
       "      <td>7.94</td>\n",
       "      <td>7.85</td>\n",
       "      <td>7.94</td>\n",
       "      <td>7.96</td>\n",
       "      <td>7.92</td>\n",
       "      <td>8.04</td>\n",
       "      <td>7.99</td>\n",
       "      <td>NaN</td>\n",
       "      <td>8.04</td>\n",
       "    </tr>\n",
       "    <tr>\n",
       "      <th>2</th>\n",
       "      <td>01/04/90</td>\n",
       "      <td>NaN</td>\n",
       "      <td>7.84</td>\n",
       "      <td>7.90</td>\n",
       "      <td>7.82</td>\n",
       "      <td>7.92</td>\n",
       "      <td>7.93</td>\n",
       "      <td>7.91</td>\n",
       "      <td>8.02</td>\n",
       "      <td>7.98</td>\n",
       "      <td>NaN</td>\n",
       "      <td>8.04</td>\n",
       "    </tr>\n",
       "    <tr>\n",
       "      <th>3</th>\n",
       "      <td>01/05/90</td>\n",
       "      <td>NaN</td>\n",
       "      <td>7.79</td>\n",
       "      <td>7.85</td>\n",
       "      <td>7.79</td>\n",
       "      <td>7.90</td>\n",
       "      <td>7.94</td>\n",
       "      <td>7.92</td>\n",
       "      <td>8.03</td>\n",
       "      <td>7.99</td>\n",
       "      <td>NaN</td>\n",
       "      <td>8.06</td>\n",
       "    </tr>\n",
       "    <tr>\n",
       "      <th>4</th>\n",
       "      <td>01/08/90</td>\n",
       "      <td>NaN</td>\n",
       "      <td>7.79</td>\n",
       "      <td>7.88</td>\n",
       "      <td>7.81</td>\n",
       "      <td>7.90</td>\n",
       "      <td>7.95</td>\n",
       "      <td>7.92</td>\n",
       "      <td>8.05</td>\n",
       "      <td>8.02</td>\n",
       "      <td>NaN</td>\n",
       "      <td>8.09</td>\n",
       "    </tr>\n",
       "  </tbody>\n",
       "</table>\n",
       "</div>"
      ],
      "text/plain": [
       "       Date  1 Mo  3 Mo  6 Mo  1 Yr  2 Yr  3 Yr  5 Yr  7 Yr  10 Yr  20 Yr  \\\n",
       "0  01/02/90   NaN  7.83  7.89  7.81  7.87  7.90  7.87  7.98   7.94    NaN   \n",
       "1  01/03/90   NaN  7.89  7.94  7.85  7.94  7.96  7.92  8.04   7.99    NaN   \n",
       "2  01/04/90   NaN  7.84  7.90  7.82  7.92  7.93  7.91  8.02   7.98    NaN   \n",
       "3  01/05/90   NaN  7.79  7.85  7.79  7.90  7.94  7.92  8.03   7.99    NaN   \n",
       "4  01/08/90   NaN  7.79  7.88  7.81  7.90  7.95  7.92  8.05   8.02    NaN   \n",
       "\n",
       "   30 Yr  \n",
       "0   8.00  \n",
       "1   8.04  \n",
       "2   8.04  \n",
       "3   8.06  \n",
       "4   8.09  "
      ]
     },
     "execution_count": 3,
     "metadata": {},
     "output_type": "execute_result"
    }
   ],
   "source": [
    "# Load Datasets\n",
    "yc_path = os.path.join(DATA_DIR, 'YieldCurve.txt')\n",
    "yc_df = pd.read_csv(yc_path, sep='\\t')\n",
    "yc_df.head()"
   ]
  },
  {
   "cell_type": "code",
   "execution_count": 4,
   "metadata": {},
   "outputs": [
    {
     "data": {
      "text/html": [
       "<div>\n",
       "<style scoped>\n",
       "    .dataframe tbody tr th:only-of-type {\n",
       "        vertical-align: middle;\n",
       "    }\n",
       "\n",
       "    .dataframe tbody tr th {\n",
       "        vertical-align: top;\n",
       "    }\n",
       "\n",
       "    .dataframe thead th {\n",
       "        text-align: right;\n",
       "    }\n",
       "</style>\n",
       "<table border=\"1\" class=\"dataframe\">\n",
       "  <thead>\n",
       "    <tr style=\"text-align: right;\">\n",
       "      <th></th>\n",
       "      <th>Year</th>\n",
       "      <th>Month</th>\n",
       "      <th>Day</th>\n",
       "      <th>Federal Funds Target Rate</th>\n",
       "      <th>Federal Funds Upper Target</th>\n",
       "      <th>Federal Funds Lower Target</th>\n",
       "      <th>Effective Federal Funds Rate</th>\n",
       "      <th>Real GDP (Percent Change)</th>\n",
       "      <th>Unemployment Rate</th>\n",
       "      <th>Inflation Rate</th>\n",
       "    </tr>\n",
       "  </thead>\n",
       "  <tbody>\n",
       "    <tr>\n",
       "      <th>0</th>\n",
       "      <td>1954</td>\n",
       "      <td>7</td>\n",
       "      <td>1</td>\n",
       "      <td>NaN</td>\n",
       "      <td>NaN</td>\n",
       "      <td>NaN</td>\n",
       "      <td>0.80</td>\n",
       "      <td>4.6</td>\n",
       "      <td>5.8</td>\n",
       "      <td>NaN</td>\n",
       "    </tr>\n",
       "    <tr>\n",
       "      <th>1</th>\n",
       "      <td>1954</td>\n",
       "      <td>8</td>\n",
       "      <td>1</td>\n",
       "      <td>NaN</td>\n",
       "      <td>NaN</td>\n",
       "      <td>NaN</td>\n",
       "      <td>1.22</td>\n",
       "      <td>NaN</td>\n",
       "      <td>6.0</td>\n",
       "      <td>NaN</td>\n",
       "    </tr>\n",
       "    <tr>\n",
       "      <th>2</th>\n",
       "      <td>1954</td>\n",
       "      <td>9</td>\n",
       "      <td>1</td>\n",
       "      <td>NaN</td>\n",
       "      <td>NaN</td>\n",
       "      <td>NaN</td>\n",
       "      <td>1.06</td>\n",
       "      <td>NaN</td>\n",
       "      <td>6.1</td>\n",
       "      <td>NaN</td>\n",
       "    </tr>\n",
       "    <tr>\n",
       "      <th>3</th>\n",
       "      <td>1954</td>\n",
       "      <td>10</td>\n",
       "      <td>1</td>\n",
       "      <td>NaN</td>\n",
       "      <td>NaN</td>\n",
       "      <td>NaN</td>\n",
       "      <td>0.85</td>\n",
       "      <td>8.0</td>\n",
       "      <td>5.7</td>\n",
       "      <td>NaN</td>\n",
       "    </tr>\n",
       "    <tr>\n",
       "      <th>4</th>\n",
       "      <td>1954</td>\n",
       "      <td>11</td>\n",
       "      <td>1</td>\n",
       "      <td>NaN</td>\n",
       "      <td>NaN</td>\n",
       "      <td>NaN</td>\n",
       "      <td>0.83</td>\n",
       "      <td>NaN</td>\n",
       "      <td>5.3</td>\n",
       "      <td>NaN</td>\n",
       "    </tr>\n",
       "  </tbody>\n",
       "</table>\n",
       "</div>"
      ],
      "text/plain": [
       "   Year  Month  Day  Federal Funds Target Rate  Federal Funds Upper Target  \\\n",
       "0  1954      7    1                        NaN                         NaN   \n",
       "1  1954      8    1                        NaN                         NaN   \n",
       "2  1954      9    1                        NaN                         NaN   \n",
       "3  1954     10    1                        NaN                         NaN   \n",
       "4  1954     11    1                        NaN                         NaN   \n",
       "\n",
       "   Federal Funds Lower Target  Effective Federal Funds Rate  \\\n",
       "0                         NaN                          0.80   \n",
       "1                         NaN                          1.22   \n",
       "2                         NaN                          1.06   \n",
       "3                         NaN                          0.85   \n",
       "4                         NaN                          0.83   \n",
       "\n",
       "   Real GDP (Percent Change)  Unemployment Rate  Inflation Rate  \n",
       "0                        4.6                5.8             NaN  \n",
       "1                        NaN                6.0             NaN  \n",
       "2                        NaN                6.1             NaN  \n",
       "3                        8.0                5.7             NaN  \n",
       "4                        NaN                5.3             NaN  "
      ]
     },
     "execution_count": 4,
     "metadata": {},
     "output_type": "execute_result"
    }
   ],
   "source": [
    "# Load Datasets\n",
    "sd_path = os.path.join(DATA_DIR, 'SupportData.csv')\n",
    "sd_df = pd.read_csv(sd_path)\n",
    "sd_df.head()"
   ]
  },
  {
   "cell_type": "code",
   "execution_count": 5,
   "metadata": {},
   "outputs": [
    {
     "data": {
      "text/html": [
       "<div>\n",
       "<style scoped>\n",
       "    .dataframe tbody tr th:only-of-type {\n",
       "        vertical-align: middle;\n",
       "    }\n",
       "\n",
       "    .dataframe tbody tr th {\n",
       "        vertical-align: top;\n",
       "    }\n",
       "\n",
       "    .dataframe thead th {\n",
       "        text-align: right;\n",
       "    }\n",
       "</style>\n",
       "<table border=\"1\" class=\"dataframe\">\n",
       "  <thead>\n",
       "    <tr style=\"text-align: right;\">\n",
       "      <th></th>\n",
       "      <th>Year</th>\n",
       "      <th>Month</th>\n",
       "      <th>Day</th>\n",
       "      <th>Federal Funds Target Rate</th>\n",
       "      <th>Federal Funds Upper Target</th>\n",
       "      <th>Federal Funds Lower Target</th>\n",
       "      <th>Effective Federal Funds Rate</th>\n",
       "      <th>Real GDP (Percent Change)</th>\n",
       "      <th>Unemployment Rate</th>\n",
       "      <th>Inflation Rate</th>\n",
       "      <th>Date</th>\n",
       "    </tr>\n",
       "  </thead>\n",
       "  <tbody>\n",
       "    <tr>\n",
       "      <th>0</th>\n",
       "      <td>1954</td>\n",
       "      <td>7</td>\n",
       "      <td>1</td>\n",
       "      <td>NaN</td>\n",
       "      <td>NaN</td>\n",
       "      <td>NaN</td>\n",
       "      <td>0.80</td>\n",
       "      <td>4.6</td>\n",
       "      <td>5.8</td>\n",
       "      <td>NaN</td>\n",
       "      <td></td>\n",
       "    </tr>\n",
       "    <tr>\n",
       "      <th>1</th>\n",
       "      <td>1954</td>\n",
       "      <td>8</td>\n",
       "      <td>1</td>\n",
       "      <td>NaN</td>\n",
       "      <td>NaN</td>\n",
       "      <td>NaN</td>\n",
       "      <td>1.22</td>\n",
       "      <td>NaN</td>\n",
       "      <td>6.0</td>\n",
       "      <td>NaN</td>\n",
       "      <td></td>\n",
       "    </tr>\n",
       "    <tr>\n",
       "      <th>2</th>\n",
       "      <td>1954</td>\n",
       "      <td>9</td>\n",
       "      <td>1</td>\n",
       "      <td>NaN</td>\n",
       "      <td>NaN</td>\n",
       "      <td>NaN</td>\n",
       "      <td>1.06</td>\n",
       "      <td>NaN</td>\n",
       "      <td>6.1</td>\n",
       "      <td>NaN</td>\n",
       "      <td></td>\n",
       "    </tr>\n",
       "    <tr>\n",
       "      <th>3</th>\n",
       "      <td>1954</td>\n",
       "      <td>10</td>\n",
       "      <td>1</td>\n",
       "      <td>NaN</td>\n",
       "      <td>NaN</td>\n",
       "      <td>NaN</td>\n",
       "      <td>0.85</td>\n",
       "      <td>8.0</td>\n",
       "      <td>5.7</td>\n",
       "      <td>NaN</td>\n",
       "      <td></td>\n",
       "    </tr>\n",
       "    <tr>\n",
       "      <th>4</th>\n",
       "      <td>1954</td>\n",
       "      <td>11</td>\n",
       "      <td>1</td>\n",
       "      <td>NaN</td>\n",
       "      <td>NaN</td>\n",
       "      <td>NaN</td>\n",
       "      <td>0.83</td>\n",
       "      <td>NaN</td>\n",
       "      <td>5.3</td>\n",
       "      <td>NaN</td>\n",
       "      <td></td>\n",
       "    </tr>\n",
       "  </tbody>\n",
       "</table>\n",
       "</div>"
      ],
      "text/plain": [
       "   Year  Month  Day  Federal Funds Target Rate  Federal Funds Upper Target  \\\n",
       "0  1954      7    1                        NaN                         NaN   \n",
       "1  1954      8    1                        NaN                         NaN   \n",
       "2  1954      9    1                        NaN                         NaN   \n",
       "3  1954     10    1                        NaN                         NaN   \n",
       "4  1954     11    1                        NaN                         NaN   \n",
       "\n",
       "   Federal Funds Lower Target  Effective Federal Funds Rate  \\\n",
       "0                         NaN                          0.80   \n",
       "1                         NaN                          1.22   \n",
       "2                         NaN                          1.06   \n",
       "3                         NaN                          0.85   \n",
       "4                         NaN                          0.83   \n",
       "\n",
       "   Real GDP (Percent Change)  Unemployment Rate  Inflation Rate Date  \n",
       "0                        4.6                5.8             NaN       \n",
       "1                        NaN                6.0             NaN       \n",
       "2                        NaN                6.1             NaN       \n",
       "3                        8.0                5.7             NaN       \n",
       "4                        NaN                5.3             NaN       "
      ]
     },
     "execution_count": 5,
     "metadata": {},
     "output_type": "execute_result"
    }
   ],
   "source": [
    "sd_df['Date'] = ''\n",
    "sd_df.head()"
   ]
  },
  {
   "cell_type": "code",
   "execution_count": 6,
   "metadata": {},
   "outputs": [
    {
     "name": "stderr",
     "output_type": "stream",
     "text": [
      "/anaconda3/envs/py36/lib/python3.6/site-packages/ipykernel_launcher.py:5: SettingWithCopyWarning: \n",
      "A value is trying to be set on a copy of a slice from a DataFrame\n",
      "\n",
      "See the caveats in the documentation: http://pandas.pydata.org/pandas-docs/stable/indexing.html#indexing-view-versus-copy\n",
      "  \"\"\"\n"
     ]
    }
   ],
   "source": [
    "for i in range(len(sd_df)):\n",
    "    yy = '{}'.format(sd_df['Year'][i]).replace('19', '').replace('20', '')\n",
    "    mm = '{0: >2}'.format(sd_df['Month'][i]).replace(' ', '0')\n",
    "    dd = '{0: >2}'.format(sd_df['Day'][i]).replace(' ', '0')\n",
    "    sd_df['Date'][i] = '{}/{}/{}'.format(mm, dd, yy)"
   ]
  },
  {
   "cell_type": "code",
   "execution_count": 7,
   "metadata": {},
   "outputs": [
    {
     "data": {
      "text/html": [
       "<div>\n",
       "<style scoped>\n",
       "    .dataframe tbody tr th:only-of-type {\n",
       "        vertical-align: middle;\n",
       "    }\n",
       "\n",
       "    .dataframe tbody tr th {\n",
       "        vertical-align: top;\n",
       "    }\n",
       "\n",
       "    .dataframe thead th {\n",
       "        text-align: right;\n",
       "    }\n",
       "</style>\n",
       "<table border=\"1\" class=\"dataframe\">\n",
       "  <thead>\n",
       "    <tr style=\"text-align: right;\">\n",
       "      <th></th>\n",
       "      <th>Year</th>\n",
       "      <th>Month</th>\n",
       "      <th>Day</th>\n",
       "      <th>Federal Funds Target Rate</th>\n",
       "      <th>Federal Funds Upper Target</th>\n",
       "      <th>Federal Funds Lower Target</th>\n",
       "      <th>Effective Federal Funds Rate</th>\n",
       "      <th>Real GDP (Percent Change)</th>\n",
       "      <th>Unemployment Rate</th>\n",
       "      <th>Inflation Rate</th>\n",
       "      <th>Date</th>\n",
       "    </tr>\n",
       "  </thead>\n",
       "  <tbody>\n",
       "    <tr>\n",
       "      <th>0</th>\n",
       "      <td>1954</td>\n",
       "      <td>7</td>\n",
       "      <td>1</td>\n",
       "      <td>NaN</td>\n",
       "      <td>NaN</td>\n",
       "      <td>NaN</td>\n",
       "      <td>0.80</td>\n",
       "      <td>4.6</td>\n",
       "      <td>5.8</td>\n",
       "      <td>NaN</td>\n",
       "      <td>07/01/54</td>\n",
       "    </tr>\n",
       "    <tr>\n",
       "      <th>1</th>\n",
       "      <td>1954</td>\n",
       "      <td>8</td>\n",
       "      <td>1</td>\n",
       "      <td>NaN</td>\n",
       "      <td>NaN</td>\n",
       "      <td>NaN</td>\n",
       "      <td>1.22</td>\n",
       "      <td>NaN</td>\n",
       "      <td>6.0</td>\n",
       "      <td>NaN</td>\n",
       "      <td>08/01/54</td>\n",
       "    </tr>\n",
       "    <tr>\n",
       "      <th>2</th>\n",
       "      <td>1954</td>\n",
       "      <td>9</td>\n",
       "      <td>1</td>\n",
       "      <td>NaN</td>\n",
       "      <td>NaN</td>\n",
       "      <td>NaN</td>\n",
       "      <td>1.06</td>\n",
       "      <td>NaN</td>\n",
       "      <td>6.1</td>\n",
       "      <td>NaN</td>\n",
       "      <td>09/01/54</td>\n",
       "    </tr>\n",
       "    <tr>\n",
       "      <th>3</th>\n",
       "      <td>1954</td>\n",
       "      <td>10</td>\n",
       "      <td>1</td>\n",
       "      <td>NaN</td>\n",
       "      <td>NaN</td>\n",
       "      <td>NaN</td>\n",
       "      <td>0.85</td>\n",
       "      <td>8.0</td>\n",
       "      <td>5.7</td>\n",
       "      <td>NaN</td>\n",
       "      <td>10/01/54</td>\n",
       "    </tr>\n",
       "    <tr>\n",
       "      <th>4</th>\n",
       "      <td>1954</td>\n",
       "      <td>11</td>\n",
       "      <td>1</td>\n",
       "      <td>NaN</td>\n",
       "      <td>NaN</td>\n",
       "      <td>NaN</td>\n",
       "      <td>0.83</td>\n",
       "      <td>NaN</td>\n",
       "      <td>5.3</td>\n",
       "      <td>NaN</td>\n",
       "      <td>11/01/54</td>\n",
       "    </tr>\n",
       "  </tbody>\n",
       "</table>\n",
       "</div>"
      ],
      "text/plain": [
       "   Year  Month  Day  Federal Funds Target Rate  Federal Funds Upper Target  \\\n",
       "0  1954      7    1                        NaN                         NaN   \n",
       "1  1954      8    1                        NaN                         NaN   \n",
       "2  1954      9    1                        NaN                         NaN   \n",
       "3  1954     10    1                        NaN                         NaN   \n",
       "4  1954     11    1                        NaN                         NaN   \n",
       "\n",
       "   Federal Funds Lower Target  Effective Federal Funds Rate  \\\n",
       "0                         NaN                          0.80   \n",
       "1                         NaN                          1.22   \n",
       "2                         NaN                          1.06   \n",
       "3                         NaN                          0.85   \n",
       "4                         NaN                          0.83   \n",
       "\n",
       "   Real GDP (Percent Change)  Unemployment Rate  Inflation Rate      Date  \n",
       "0                        4.6                5.8             NaN  07/01/54  \n",
       "1                        NaN                6.0             NaN  08/01/54  \n",
       "2                        NaN                6.1             NaN  09/01/54  \n",
       "3                        8.0                5.7             NaN  10/01/54  \n",
       "4                        NaN                5.3             NaN  11/01/54  "
      ]
     },
     "execution_count": 7,
     "metadata": {},
     "output_type": "execute_result"
    }
   ],
   "source": [
    "sd_df.head()"
   ]
  },
  {
   "cell_type": "code",
   "execution_count": 8,
   "metadata": {},
   "outputs": [
    {
     "data": {
      "text/html": [
       "<div>\n",
       "<style scoped>\n",
       "    .dataframe tbody tr th:only-of-type {\n",
       "        vertical-align: middle;\n",
       "    }\n",
       "\n",
       "    .dataframe tbody tr th {\n",
       "        vertical-align: top;\n",
       "    }\n",
       "\n",
       "    .dataframe thead th {\n",
       "        text-align: right;\n",
       "    }\n",
       "</style>\n",
       "<table border=\"1\" class=\"dataframe\">\n",
       "  <thead>\n",
       "    <tr style=\"text-align: right;\">\n",
       "      <th></th>\n",
       "      <th>Year</th>\n",
       "      <th>Month</th>\n",
       "      <th>Day</th>\n",
       "      <th>Federal Funds Target Rate</th>\n",
       "      <th>Federal Funds Upper Target</th>\n",
       "      <th>Federal Funds Lower Target</th>\n",
       "      <th>Effective Federal Funds Rate</th>\n",
       "      <th>Real GDP (Percent Change)</th>\n",
       "      <th>Unemployment Rate</th>\n",
       "      <th>Inflation Rate</th>\n",
       "      <th>...</th>\n",
       "      <th>3 Mo</th>\n",
       "      <th>6 Mo</th>\n",
       "      <th>1 Yr</th>\n",
       "      <th>2 Yr</th>\n",
       "      <th>3 Yr</th>\n",
       "      <th>5 Yr</th>\n",
       "      <th>7 Yr</th>\n",
       "      <th>10 Yr</th>\n",
       "      <th>20 Yr</th>\n",
       "      <th>30 Yr</th>\n",
       "    </tr>\n",
       "  </thead>\n",
       "  <tbody>\n",
       "    <tr>\n",
       "      <th>0</th>\n",
       "      <td>1990</td>\n",
       "      <td>2</td>\n",
       "      <td>1</td>\n",
       "      <td>8.25</td>\n",
       "      <td>NaN</td>\n",
       "      <td>NaN</td>\n",
       "      <td>8.24</td>\n",
       "      <td>NaN</td>\n",
       "      <td>5.3</td>\n",
       "      <td>4.6</td>\n",
       "      <td>...</td>\n",
       "      <td>8.02</td>\n",
       "      <td>8.13</td>\n",
       "      <td>8.09</td>\n",
       "      <td>8.28</td>\n",
       "      <td>8.35</td>\n",
       "      <td>8.35</td>\n",
       "      <td>8.38</td>\n",
       "      <td>8.42</td>\n",
       "      <td>NaN</td>\n",
       "      <td>8.44</td>\n",
       "    </tr>\n",
       "    <tr>\n",
       "      <th>1</th>\n",
       "      <td>1990</td>\n",
       "      <td>3</td>\n",
       "      <td>1</td>\n",
       "      <td>8.25</td>\n",
       "      <td>NaN</td>\n",
       "      <td>NaN</td>\n",
       "      <td>8.28</td>\n",
       "      <td>NaN</td>\n",
       "      <td>5.2</td>\n",
       "      <td>4.9</td>\n",
       "      <td>...</td>\n",
       "      <td>8.08</td>\n",
       "      <td>8.19</td>\n",
       "      <td>8.21</td>\n",
       "      <td>8.53</td>\n",
       "      <td>8.53</td>\n",
       "      <td>8.53</td>\n",
       "      <td>8.62</td>\n",
       "      <td>8.59</td>\n",
       "      <td>NaN</td>\n",
       "      <td>8.61</td>\n",
       "    </tr>\n",
       "    <tr>\n",
       "      <th>2</th>\n",
       "      <td>1990</td>\n",
       "      <td>5</td>\n",
       "      <td>1</td>\n",
       "      <td>8.25</td>\n",
       "      <td>NaN</td>\n",
       "      <td>NaN</td>\n",
       "      <td>8.18</td>\n",
       "      <td>NaN</td>\n",
       "      <td>5.4</td>\n",
       "      <td>4.8</td>\n",
       "      <td>...</td>\n",
       "      <td>8.19</td>\n",
       "      <td>8.49</td>\n",
       "      <td>8.56</td>\n",
       "      <td>9.02</td>\n",
       "      <td>9.09</td>\n",
       "      <td>9.08</td>\n",
       "      <td>9.09</td>\n",
       "      <td>9.08</td>\n",
       "      <td>NaN</td>\n",
       "      <td>9.04</td>\n",
       "    </tr>\n",
       "    <tr>\n",
       "      <th>3</th>\n",
       "      <td>1990</td>\n",
       "      <td>6</td>\n",
       "      <td>1</td>\n",
       "      <td>8.25</td>\n",
       "      <td>NaN</td>\n",
       "      <td>NaN</td>\n",
       "      <td>8.29</td>\n",
       "      <td>NaN</td>\n",
       "      <td>5.2</td>\n",
       "      <td>4.9</td>\n",
       "      <td>...</td>\n",
       "      <td>7.94</td>\n",
       "      <td>8.01</td>\n",
       "      <td>8.06</td>\n",
       "      <td>8.33</td>\n",
       "      <td>8.36</td>\n",
       "      <td>8.38</td>\n",
       "      <td>8.47</td>\n",
       "      <td>8.44</td>\n",
       "      <td>NaN</td>\n",
       "      <td>8.43</td>\n",
       "    </tr>\n",
       "    <tr>\n",
       "      <th>4</th>\n",
       "      <td>1990</td>\n",
       "      <td>7</td>\n",
       "      <td>13</td>\n",
       "      <td>8.00</td>\n",
       "      <td>NaN</td>\n",
       "      <td>NaN</td>\n",
       "      <td>NaN</td>\n",
       "      <td>NaN</td>\n",
       "      <td>NaN</td>\n",
       "      <td>NaN</td>\n",
       "      <td>...</td>\n",
       "      <td>7.85</td>\n",
       "      <td>7.91</td>\n",
       "      <td>7.89</td>\n",
       "      <td>8.13</td>\n",
       "      <td>8.25</td>\n",
       "      <td>8.32</td>\n",
       "      <td>8.43</td>\n",
       "      <td>8.45</td>\n",
       "      <td>NaN</td>\n",
       "      <td>8.46</td>\n",
       "    </tr>\n",
       "  </tbody>\n",
       "</table>\n",
       "<p>5 rows × 22 columns</p>\n",
       "</div>"
      ],
      "text/plain": [
       "   Year  Month  Day  Federal Funds Target Rate  Federal Funds Upper Target  \\\n",
       "0  1990      2    1                       8.25                         NaN   \n",
       "1  1990      3    1                       8.25                         NaN   \n",
       "2  1990      5    1                       8.25                         NaN   \n",
       "3  1990      6    1                       8.25                         NaN   \n",
       "4  1990      7   13                       8.00                         NaN   \n",
       "\n",
       "   Federal Funds Lower Target  Effective Federal Funds Rate  \\\n",
       "0                         NaN                          8.24   \n",
       "1                         NaN                          8.28   \n",
       "2                         NaN                          8.18   \n",
       "3                         NaN                          8.29   \n",
       "4                         NaN                           NaN   \n",
       "\n",
       "   Real GDP (Percent Change)  Unemployment Rate  Inflation Rate  ...    3 Mo  \\\n",
       "0                        NaN                5.3             4.6  ...    8.02   \n",
       "1                        NaN                5.2             4.9  ...    8.08   \n",
       "2                        NaN                5.4             4.8  ...    8.19   \n",
       "3                        NaN                5.2             4.9  ...    7.94   \n",
       "4                        NaN                NaN             NaN  ...    7.85   \n",
       "\n",
       "   6 Mo  1 Yr  2 Yr  3 Yr  5 Yr  7 Yr  10 Yr  20 Yr  30 Yr  \n",
       "0  8.13  8.09  8.28  8.35  8.35  8.38   8.42    NaN   8.44  \n",
       "1  8.19  8.21  8.53  8.53  8.53  8.62   8.59    NaN   8.61  \n",
       "2  8.49  8.56  9.02  9.09  9.08  9.09   9.08    NaN   9.04  \n",
       "3  8.01  8.06  8.33  8.36  8.38  8.47   8.44    NaN   8.43  \n",
       "4  7.91  7.89  8.13  8.25  8.32  8.43   8.45    NaN   8.46  \n",
       "\n",
       "[5 rows x 22 columns]"
      ]
     },
     "execution_count": 8,
     "metadata": {},
     "output_type": "execute_result"
    }
   ],
   "source": [
    "data_df = pd.merge(sd_df, yc_df, how='inner', on=['Date'])\n",
    "data_df.head()"
   ]
  },
  {
   "cell_type": "code",
   "execution_count": 9,
   "metadata": {},
   "outputs": [],
   "source": [
    "data_df = data_df.fillna(method='backfill').fillna(method='pad')"
   ]
  },
  {
   "cell_type": "code",
   "execution_count": 10,
   "metadata": {},
   "outputs": [
    {
     "data": {
      "text/html": [
       "<div>\n",
       "<style scoped>\n",
       "    .dataframe tbody tr th:only-of-type {\n",
       "        vertical-align: middle;\n",
       "    }\n",
       "\n",
       "    .dataframe tbody tr th {\n",
       "        vertical-align: top;\n",
       "    }\n",
       "\n",
       "    .dataframe thead th {\n",
       "        text-align: right;\n",
       "    }\n",
       "</style>\n",
       "<table border=\"1\" class=\"dataframe\">\n",
       "  <thead>\n",
       "    <tr style=\"text-align: right;\">\n",
       "      <th></th>\n",
       "      <th>Year</th>\n",
       "      <th>Month</th>\n",
       "      <th>Day</th>\n",
       "      <th>Federal Funds Target Rate</th>\n",
       "      <th>Federal Funds Upper Target</th>\n",
       "      <th>Federal Funds Lower Target</th>\n",
       "      <th>Effective Federal Funds Rate</th>\n",
       "      <th>Real GDP (Percent Change)</th>\n",
       "      <th>Unemployment Rate</th>\n",
       "      <th>Inflation Rate</th>\n",
       "      <th>...</th>\n",
       "      <th>3 Mo</th>\n",
       "      <th>6 Mo</th>\n",
       "      <th>1 Yr</th>\n",
       "      <th>2 Yr</th>\n",
       "      <th>3 Yr</th>\n",
       "      <th>5 Yr</th>\n",
       "      <th>7 Yr</th>\n",
       "      <th>10 Yr</th>\n",
       "      <th>20 Yr</th>\n",
       "      <th>30 Yr</th>\n",
       "    </tr>\n",
       "  </thead>\n",
       "  <tbody>\n",
       "    <tr>\n",
       "      <th>0</th>\n",
       "      <td>1990</td>\n",
       "      <td>2</td>\n",
       "      <td>1</td>\n",
       "      <td>8.25</td>\n",
       "      <td>0.25</td>\n",
       "      <td>0.0</td>\n",
       "      <td>8.24</td>\n",
       "      <td>-3.4</td>\n",
       "      <td>5.3</td>\n",
       "      <td>4.6</td>\n",
       "      <td>...</td>\n",
       "      <td>8.02</td>\n",
       "      <td>8.13</td>\n",
       "      <td>8.09</td>\n",
       "      <td>8.28</td>\n",
       "      <td>8.35</td>\n",
       "      <td>8.35</td>\n",
       "      <td>8.38</td>\n",
       "      <td>8.42</td>\n",
       "      <td>6.12</td>\n",
       "      <td>8.44</td>\n",
       "    </tr>\n",
       "    <tr>\n",
       "      <th>1</th>\n",
       "      <td>1990</td>\n",
       "      <td>3</td>\n",
       "      <td>1</td>\n",
       "      <td>8.25</td>\n",
       "      <td>0.25</td>\n",
       "      <td>0.0</td>\n",
       "      <td>8.28</td>\n",
       "      <td>-3.4</td>\n",
       "      <td>5.2</td>\n",
       "      <td>4.9</td>\n",
       "      <td>...</td>\n",
       "      <td>8.08</td>\n",
       "      <td>8.19</td>\n",
       "      <td>8.21</td>\n",
       "      <td>8.53</td>\n",
       "      <td>8.53</td>\n",
       "      <td>8.53</td>\n",
       "      <td>8.62</td>\n",
       "      <td>8.59</td>\n",
       "      <td>6.12</td>\n",
       "      <td>8.61</td>\n",
       "    </tr>\n",
       "    <tr>\n",
       "      <th>2</th>\n",
       "      <td>1990</td>\n",
       "      <td>5</td>\n",
       "      <td>1</td>\n",
       "      <td>8.25</td>\n",
       "      <td>0.25</td>\n",
       "      <td>0.0</td>\n",
       "      <td>8.18</td>\n",
       "      <td>-3.4</td>\n",
       "      <td>5.4</td>\n",
       "      <td>4.8</td>\n",
       "      <td>...</td>\n",
       "      <td>8.19</td>\n",
       "      <td>8.49</td>\n",
       "      <td>8.56</td>\n",
       "      <td>9.02</td>\n",
       "      <td>9.09</td>\n",
       "      <td>9.08</td>\n",
       "      <td>9.09</td>\n",
       "      <td>9.08</td>\n",
       "      <td>6.12</td>\n",
       "      <td>9.04</td>\n",
       "    </tr>\n",
       "    <tr>\n",
       "      <th>3</th>\n",
       "      <td>1990</td>\n",
       "      <td>6</td>\n",
       "      <td>1</td>\n",
       "      <td>8.25</td>\n",
       "      <td>0.25</td>\n",
       "      <td>0.0</td>\n",
       "      <td>8.29</td>\n",
       "      <td>-3.4</td>\n",
       "      <td>5.2</td>\n",
       "      <td>4.9</td>\n",
       "      <td>...</td>\n",
       "      <td>7.94</td>\n",
       "      <td>8.01</td>\n",
       "      <td>8.06</td>\n",
       "      <td>8.33</td>\n",
       "      <td>8.36</td>\n",
       "      <td>8.38</td>\n",
       "      <td>8.47</td>\n",
       "      <td>8.44</td>\n",
       "      <td>6.12</td>\n",
       "      <td>8.43</td>\n",
       "    </tr>\n",
       "    <tr>\n",
       "      <th>4</th>\n",
       "      <td>1990</td>\n",
       "      <td>7</td>\n",
       "      <td>13</td>\n",
       "      <td>8.00</td>\n",
       "      <td>0.25</td>\n",
       "      <td>0.0</td>\n",
       "      <td>8.13</td>\n",
       "      <td>-3.4</td>\n",
       "      <td>5.7</td>\n",
       "      <td>5.5</td>\n",
       "      <td>...</td>\n",
       "      <td>7.85</td>\n",
       "      <td>7.91</td>\n",
       "      <td>7.89</td>\n",
       "      <td>8.13</td>\n",
       "      <td>8.25</td>\n",
       "      <td>8.32</td>\n",
       "      <td>8.43</td>\n",
       "      <td>8.45</td>\n",
       "      <td>6.12</td>\n",
       "      <td>8.46</td>\n",
       "    </tr>\n",
       "  </tbody>\n",
       "</table>\n",
       "<p>5 rows × 22 columns</p>\n",
       "</div>"
      ],
      "text/plain": [
       "   Year  Month  Day  Federal Funds Target Rate  Federal Funds Upper Target  \\\n",
       "0  1990      2    1                       8.25                        0.25   \n",
       "1  1990      3    1                       8.25                        0.25   \n",
       "2  1990      5    1                       8.25                        0.25   \n",
       "3  1990      6    1                       8.25                        0.25   \n",
       "4  1990      7   13                       8.00                        0.25   \n",
       "\n",
       "   Federal Funds Lower Target  Effective Federal Funds Rate  \\\n",
       "0                         0.0                          8.24   \n",
       "1                         0.0                          8.28   \n",
       "2                         0.0                          8.18   \n",
       "3                         0.0                          8.29   \n",
       "4                         0.0                          8.13   \n",
       "\n",
       "   Real GDP (Percent Change)  Unemployment Rate  Inflation Rate  ...    3 Mo  \\\n",
       "0                       -3.4                5.3             4.6  ...    8.02   \n",
       "1                       -3.4                5.2             4.9  ...    8.08   \n",
       "2                       -3.4                5.4             4.8  ...    8.19   \n",
       "3                       -3.4                5.2             4.9  ...    7.94   \n",
       "4                       -3.4                5.7             5.5  ...    7.85   \n",
       "\n",
       "   6 Mo  1 Yr  2 Yr  3 Yr  5 Yr  7 Yr  10 Yr  20 Yr  30 Yr  \n",
       "0  8.13  8.09  8.28  8.35  8.35  8.38   8.42   6.12   8.44  \n",
       "1  8.19  8.21  8.53  8.53  8.53  8.62   8.59   6.12   8.61  \n",
       "2  8.49  8.56  9.02  9.09  9.08  9.09   9.08   6.12   9.04  \n",
       "3  8.01  8.06  8.33  8.36  8.38  8.47   8.44   6.12   8.43  \n",
       "4  7.91  7.89  8.13  8.25  8.32  8.43   8.45   6.12   8.46  \n",
       "\n",
       "[5 rows x 22 columns]"
      ]
     },
     "execution_count": 10,
     "metadata": {},
     "output_type": "execute_result"
    }
   ],
   "source": [
    "data_df.head()"
   ]
  },
  {
   "cell_type": "code",
   "execution_count": 11,
   "metadata": {
    "scrolled": false
   },
   "outputs": [
    {
     "data": {
      "text/plain": [
       "Index(['Year', 'Month', 'Day', 'Federal Funds Target Rate',\n",
       "       'Federal Funds Upper Target', 'Federal Funds Lower Target',\n",
       "       'Effective Federal Funds Rate', 'Real GDP (Percent Change)',\n",
       "       'Unemployment Rate', 'Inflation Rate', 'Date', '1 Mo', '3 Mo', '6 Mo',\n",
       "       '1 Yr', '2 Yr', '3 Yr', '5 Yr', '7 Yr', '10 Yr', '20 Yr', '30 Yr'],\n",
       "      dtype='object')"
      ]
     },
     "execution_count": 11,
     "metadata": {},
     "output_type": "execute_result"
    }
   ],
   "source": [
    "data_df.columns"
   ]
  },
  {
   "cell_type": "code",
   "execution_count": 12,
   "metadata": {},
   "outputs": [],
   "source": [
    "drop_list = ['Year', 'Month', 'Day', '1 Mo', '3 Mo', '6 Mo', '2 Yr', '3 Yr', \n",
    "             '5 Yr', '7 Yr', '10 Yr', '20 Yr', '30 Yr']\n",
    "for col in drop_list:\n",
    "    data_df = data_df.drop(col, 'columns')"
   ]
  },
  {
   "cell_type": "code",
   "execution_count": 13,
   "metadata": {},
   "outputs": [
    {
     "data": {
      "text/html": [
       "<div>\n",
       "<style scoped>\n",
       "    .dataframe tbody tr th:only-of-type {\n",
       "        vertical-align: middle;\n",
       "    }\n",
       "\n",
       "    .dataframe tbody tr th {\n",
       "        vertical-align: top;\n",
       "    }\n",
       "\n",
       "    .dataframe thead th {\n",
       "        text-align: right;\n",
       "    }\n",
       "</style>\n",
       "<table border=\"1\" class=\"dataframe\">\n",
       "  <thead>\n",
       "    <tr style=\"text-align: right;\">\n",
       "      <th></th>\n",
       "      <th>Federal Funds Target Rate</th>\n",
       "      <th>Federal Funds Upper Target</th>\n",
       "      <th>Federal Funds Lower Target</th>\n",
       "      <th>Effective Federal Funds Rate</th>\n",
       "      <th>Real GDP (Percent Change)</th>\n",
       "      <th>Unemployment Rate</th>\n",
       "      <th>Inflation Rate</th>\n",
       "      <th>Date</th>\n",
       "      <th>1 Yr</th>\n",
       "    </tr>\n",
       "  </thead>\n",
       "  <tbody>\n",
       "    <tr>\n",
       "      <th>0</th>\n",
       "      <td>8.25</td>\n",
       "      <td>0.25</td>\n",
       "      <td>0.0</td>\n",
       "      <td>8.24</td>\n",
       "      <td>-3.4</td>\n",
       "      <td>5.3</td>\n",
       "      <td>4.6</td>\n",
       "      <td>02/01/90</td>\n",
       "      <td>8.09</td>\n",
       "    </tr>\n",
       "    <tr>\n",
       "      <th>1</th>\n",
       "      <td>8.25</td>\n",
       "      <td>0.25</td>\n",
       "      <td>0.0</td>\n",
       "      <td>8.28</td>\n",
       "      <td>-3.4</td>\n",
       "      <td>5.2</td>\n",
       "      <td>4.9</td>\n",
       "      <td>03/01/90</td>\n",
       "      <td>8.21</td>\n",
       "    </tr>\n",
       "    <tr>\n",
       "      <th>2</th>\n",
       "      <td>8.25</td>\n",
       "      <td>0.25</td>\n",
       "      <td>0.0</td>\n",
       "      <td>8.18</td>\n",
       "      <td>-3.4</td>\n",
       "      <td>5.4</td>\n",
       "      <td>4.8</td>\n",
       "      <td>05/01/90</td>\n",
       "      <td>8.56</td>\n",
       "    </tr>\n",
       "    <tr>\n",
       "      <th>3</th>\n",
       "      <td>8.25</td>\n",
       "      <td>0.25</td>\n",
       "      <td>0.0</td>\n",
       "      <td>8.29</td>\n",
       "      <td>-3.4</td>\n",
       "      <td>5.2</td>\n",
       "      <td>4.9</td>\n",
       "      <td>06/01/90</td>\n",
       "      <td>8.06</td>\n",
       "    </tr>\n",
       "    <tr>\n",
       "      <th>4</th>\n",
       "      <td>8.00</td>\n",
       "      <td>0.25</td>\n",
       "      <td>0.0</td>\n",
       "      <td>8.13</td>\n",
       "      <td>-3.4</td>\n",
       "      <td>5.7</td>\n",
       "      <td>5.5</td>\n",
       "      <td>07/13/90</td>\n",
       "      <td>7.89</td>\n",
       "    </tr>\n",
       "  </tbody>\n",
       "</table>\n",
       "</div>"
      ],
      "text/plain": [
       "   Federal Funds Target Rate  Federal Funds Upper Target  \\\n",
       "0                       8.25                        0.25   \n",
       "1                       8.25                        0.25   \n",
       "2                       8.25                        0.25   \n",
       "3                       8.25                        0.25   \n",
       "4                       8.00                        0.25   \n",
       "\n",
       "   Federal Funds Lower Target  Effective Federal Funds Rate  \\\n",
       "0                         0.0                          8.24   \n",
       "1                         0.0                          8.28   \n",
       "2                         0.0                          8.18   \n",
       "3                         0.0                          8.29   \n",
       "4                         0.0                          8.13   \n",
       "\n",
       "   Real GDP (Percent Change)  Unemployment Rate  Inflation Rate      Date  \\\n",
       "0                       -3.4                5.3             4.6  02/01/90   \n",
       "1                       -3.4                5.2             4.9  03/01/90   \n",
       "2                       -3.4                5.4             4.8  05/01/90   \n",
       "3                       -3.4                5.2             4.9  06/01/90   \n",
       "4                       -3.4                5.7             5.5  07/13/90   \n",
       "\n",
       "   1 Yr  \n",
       "0  8.09  \n",
       "1  8.21  \n",
       "2  8.56  \n",
       "3  8.06  \n",
       "4  7.89  "
      ]
     },
     "execution_count": 13,
     "metadata": {},
     "output_type": "execute_result"
    }
   ],
   "source": [
    "data_df.head()"
   ]
  },
  {
   "cell_type": "markdown",
   "metadata": {},
   "source": [
    "# Data Cleaning"
   ]
  },
  {
   "cell_type": "code",
   "execution_count": 14,
   "metadata": {},
   "outputs": [
    {
     "data": {
      "text/plain": [
       "(array([[ 8.25,  0.25,  0.  , ..., -3.4 ,  5.3 ,  4.6 ],\n",
       "        [ 8.25,  0.25,  0.  , ..., -3.4 ,  5.2 ,  4.9 ],\n",
       "        [ 8.25,  0.25,  0.  , ..., -3.4 ,  5.4 ,  4.8 ],\n",
       "        ...,\n",
       "        [ 1.  ,  0.75,  0.5 , ...,  3.5 ,  4.7 ,  2.2 ],\n",
       "        [ 1.  ,  0.75,  0.5 , ...,  3.5 ,  4.7 ,  2.2 ],\n",
       "        [ 1.  ,  1.  ,  0.75, ...,  3.5 ,  4.7 ,  2.2 ]]), (287, 7))"
      ]
     },
     "execution_count": 14,
     "metadata": {},
     "output_type": "execute_result"
    }
   ],
   "source": [
    "data_mat = np.array(data_df)[:, 0: -2]\n",
    "data_mat = data_mat.astype(float)\n",
    "data_mat, data_mat.shape"
   ]
  },
  {
   "cell_type": "markdown",
   "metadata": {},
   "source": [
    "# Normalization"
   ]
  },
  {
   "cell_type": "code",
   "execution_count": 15,
   "metadata": {},
   "outputs": [],
   "source": [
    "data_mat = normalize(data_mat, 'max', axis=1)"
   ]
  },
  {
   "cell_type": "code",
   "execution_count": 16,
   "metadata": {},
   "outputs": [
    {
     "data": {
      "text/plain": [
       "array([[ 1.        ,  0.03030303,  0.        , ..., -0.41212121,\n",
       "         0.64242424,  0.55757576],\n",
       "       [ 0.99637681,  0.03019324,  0.        , ..., -0.41062802,\n",
       "         0.62801932,  0.59178744],\n",
       "       [ 1.        ,  0.03030303,  0.        , ..., -0.41212121,\n",
       "         0.65454545,  0.58181818],\n",
       "       ...,\n",
       "       [ 0.21276596,  0.15957447,  0.10638298, ...,  0.74468085,\n",
       "         1.        ,  0.46808511],\n",
       "       [ 0.21276596,  0.15957447,  0.10638298, ...,  0.74468085,\n",
       "         1.        ,  0.46808511],\n",
       "       [ 0.21276596,  0.21276596,  0.15957447, ...,  0.74468085,\n",
       "         1.        ,  0.46808511]])"
      ]
     },
     "execution_count": 16,
     "metadata": {},
     "output_type": "execute_result"
    }
   ],
   "source": [
    "data_mat"
   ]
  },
  {
   "cell_type": "markdown",
   "metadata": {},
   "source": [
    "# PCA: Singular Value Decomposition"
   ]
  },
  {
   "cell_type": "code",
   "execution_count": 17,
   "metadata": {},
   "outputs": [
    {
     "data": {
      "text/plain": [
       "PCA(copy=True, iterated_power='auto', n_components=3, random_state=None,\n",
       "  svd_solver='auto', tol=0.0, whiten=False)"
      ]
     },
     "execution_count": 17,
     "metadata": {},
     "output_type": "execute_result"
    }
   ],
   "source": [
    "pca = PCA(n_components=3)\n",
    "pca.fit(data_mat) "
   ]
  },
  {
   "cell_type": "code",
   "execution_count": 18,
   "metadata": {},
   "outputs": [
    {
     "name": "stdout",
     "output_type": "stream",
     "text": [
      "explained variance ratio: [0.65002 0.29853 0.03511]\n",
      "singular values: [8.80571 5.96756 2.04651]\n"
     ]
    }
   ],
   "source": [
    "np.set_printoptions(precision=5, suppress=True)\n",
    "print('explained variance ratio:', pca.explained_variance_ratio_)  \n",
    "print('singular values:', pca.singular_values_)"
   ]
  },
  {
   "cell_type": "code",
   "execution_count": 19,
   "metadata": {},
   "outputs": [],
   "source": [
    "trans_mat = pca.fit_transform(data_mat)"
   ]
  },
  {
   "cell_type": "code",
   "execution_count": 27,
   "metadata": {},
   "outputs": [
    {
     "data": {
      "text/plain": [
       "(array([[-0.54186,  0.92675, -0.14558],\n",
       "        [-0.54853,  0.92755, -0.12736],\n",
       "        [-0.53925,  0.92792, -0.11876],\n",
       "        [-0.54781,  0.92688, -0.12831],\n",
       "        [-0.54426,  0.94031, -0.01612]]), (287, 3))"
      ]
     },
     "execution_count": 27,
     "metadata": {},
     "output_type": "execute_result"
    }
   ],
   "source": [
    "trans_mat[0:5], trans_mat.shape"
   ]
  },
  {
   "cell_type": "code",
   "execution_count": 28,
   "metadata": {},
   "outputs": [
    {
     "data": {
      "text/plain": [
       "(array([[-0.58468,  1.     , -0.15708],\n",
       "        [-0.59138,  1.     , -0.13731],\n",
       "        [-0.58114,  1.     , -0.12799],\n",
       "        [-0.59102,  1.     , -0.13844],\n",
       "        [-0.57881,  1.     , -0.01714]]), (287, 3))"
      ]
     },
     "execution_count": 28,
     "metadata": {},
     "output_type": "execute_result"
    }
   ],
   "source": [
    "trans_mat = normalize(trans_mat, 'max', axis=1)\n",
    "trans_mat[0:5], trans_mat.shape"
   ]
  },
  {
   "cell_type": "markdown",
   "metadata": {},
   "source": [
    "# Linear Regression"
   ]
  },
  {
   "cell_type": "code",
   "execution_count": 30,
   "metadata": {
    "collapsed": true
   },
   "outputs": [
    {
     "data": {
      "text/plain": [
       "(array([[-0.58468,  1.     , -0.15708, -0.59138,  1.     , -0.13731,\n",
       "         -0.58114,  1.     , -0.12799, -0.59102,  1.     , -0.13844,\n",
       "         -0.57881,  1.     , -0.01714, -0.57881,  1.     , -0.01714,\n",
       "         -0.57247,  1.     , -0.01937, -4.81608,  1.     ,  0.61388,\n",
       "         -4.81608,  1.     ,  0.61388, -2.75041,  0.55716,  1.     ,\n",
       "         -2.40696,  0.42871,  1.     , -2.14315,  0.33005,  1.     ,\n",
       "         -1.93417,  0.25189,  1.     , -1.72051,  0.19535,  1.     ,\n",
       "         -1.85976,  0.23781,  1.     , -1.76742,  0.19956,  1.     ,\n",
       "         -1.76742,  0.19956,  1.     , -1.52537,  0.86511,  1.     ,\n",
       "         -1.52537,  0.86511,  1.     , -1.76569,  0.9494 ,  1.     ,\n",
       "         -1.59488,  1.     ,  0.88168, -1.26677,  1.     ,  0.81833,\n",
       "         -1.18403,  1.     ,  0.83816, -1.18403,  1.     ,  0.83816,\n",
       "         -1.17105, -0.75209,  1.     , -1.17105, -0.75209,  1.     ,\n",
       "         -0.401  , -1.17722,  1.     , -0.24389, -1.19154,  1.     ,\n",
       "          0.06207, -1.21942,  1.     ,  0.06207, -1.21942,  1.     ,\n",
       "          0.49347, -0.74731,  1.     ,  0.49347, -0.74731,  1.     ,\n",
       "          0.77774, -0.73079,  1.     ,  1.     , -0.74343,  0.87118,\n",
       "          1.     , -0.81614,  0.46341,  1.     , -0.81614,  0.46341,\n",
       "          1.     , -0.94398,  0.69306,  1.     , -0.94398,  0.69306,\n",
       "          1.     ,  0.31398,  0.33436,  1.     ,  0.3714 ,  0.67049,\n",
       "          1.     ,  0.36483,  0.60744,  1.     ,  0.34294,  0.58339,\n",
       "          1.     ,  0.62738,  0.48843,  1.     ,  0.64434,  0.47914,\n",
       "          0.64167, -3.18497,  1.     ,  1.     , -3.60859,  0.88895,\n",
       "          1.     ,  0.32331,  0.64404,  1.     ,  0.3175 ,  0.81147,\n",
       "          1.     ,  0.36536,  0.43568,  1.     ,  0.63298,  0.89793,\n",
       "          1.     ,  0.63298,  0.89793],\n",
       "        [-0.59138,  1.     , -0.13731, -0.58114,  1.     , -0.12799,\n",
       "         -0.59102,  1.     , -0.13844, -0.57881,  1.     , -0.01714,\n",
       "         -0.57881,  1.     , -0.01714, -0.57247,  1.     , -0.01937,\n",
       "         -4.81608,  1.     ,  0.61388, -4.81608,  1.     ,  0.61388,\n",
       "         -2.75041,  0.55716,  1.     , -2.40696,  0.42871,  1.     ,\n",
       "         -2.14315,  0.33005,  1.     , -1.93417,  0.25189,  1.     ,\n",
       "         -1.72051,  0.19535,  1.     , -1.85976,  0.23781,  1.     ,\n",
       "         -1.76742,  0.19956,  1.     , -1.76742,  0.19956,  1.     ,\n",
       "         -1.52537,  0.86511,  1.     , -1.52537,  0.86511,  1.     ,\n",
       "         -1.76569,  0.9494 ,  1.     , -1.59488,  1.     ,  0.88168,\n",
       "         -1.26677,  1.     ,  0.81833, -1.18403,  1.     ,  0.83816,\n",
       "         -1.18403,  1.     ,  0.83816, -1.17105, -0.75209,  1.     ,\n",
       "         -1.17105, -0.75209,  1.     , -0.401  , -1.17722,  1.     ,\n",
       "         -0.24389, -1.19154,  1.     ,  0.06207, -1.21942,  1.     ,\n",
       "          0.06207, -1.21942,  1.     ,  0.49347, -0.74731,  1.     ,\n",
       "          0.49347, -0.74731,  1.     ,  0.77774, -0.73079,  1.     ,\n",
       "          1.     , -0.74343,  0.87118,  1.     , -0.81614,  0.46341,\n",
       "          1.     , -0.81614,  0.46341,  1.     , -0.94398,  0.69306,\n",
       "          1.     , -0.94398,  0.69306,  1.     ,  0.31398,  0.33436,\n",
       "          1.     ,  0.3714 ,  0.67049,  1.     ,  0.36483,  0.60744,\n",
       "          1.     ,  0.34294,  0.58339,  1.     ,  0.62738,  0.48843,\n",
       "          1.     ,  0.64434,  0.47914,  0.64167, -3.18497,  1.     ,\n",
       "          1.     , -3.60859,  0.88895,  1.     ,  0.32331,  0.64404,\n",
       "          1.     ,  0.3175 ,  0.81147,  1.     ,  0.36536,  0.43568,\n",
       "          1.     ,  0.63298,  0.89793,  1.     ,  0.63298,  0.89793,\n",
       "         -1.32018,  0.64351,  1.     ],\n",
       "        [-0.58114,  1.     , -0.12799, -0.59102,  1.     , -0.13844,\n",
       "         -0.57881,  1.     , -0.01714, -0.57881,  1.     , -0.01714,\n",
       "         -0.57247,  1.     , -0.01937, -4.81608,  1.     ,  0.61388,\n",
       "         -4.81608,  1.     ,  0.61388, -2.75041,  0.55716,  1.     ,\n",
       "         -2.40696,  0.42871,  1.     , -2.14315,  0.33005,  1.     ,\n",
       "         -1.93417,  0.25189,  1.     , -1.72051,  0.19535,  1.     ,\n",
       "         -1.85976,  0.23781,  1.     , -1.76742,  0.19956,  1.     ,\n",
       "         -1.76742,  0.19956,  1.     , -1.52537,  0.86511,  1.     ,\n",
       "         -1.52537,  0.86511,  1.     , -1.76569,  0.9494 ,  1.     ,\n",
       "         -1.59488,  1.     ,  0.88168, -1.26677,  1.     ,  0.81833,\n",
       "         -1.18403,  1.     ,  0.83816, -1.18403,  1.     ,  0.83816,\n",
       "         -1.17105, -0.75209,  1.     , -1.17105, -0.75209,  1.     ,\n",
       "         -0.401  , -1.17722,  1.     , -0.24389, -1.19154,  1.     ,\n",
       "          0.06207, -1.21942,  1.     ,  0.06207, -1.21942,  1.     ,\n",
       "          0.49347, -0.74731,  1.     ,  0.49347, -0.74731,  1.     ,\n",
       "          0.77774, -0.73079,  1.     ,  1.     , -0.74343,  0.87118,\n",
       "          1.     , -0.81614,  0.46341,  1.     , -0.81614,  0.46341,\n",
       "          1.     , -0.94398,  0.69306,  1.     , -0.94398,  0.69306,\n",
       "          1.     ,  0.31398,  0.33436,  1.     ,  0.3714 ,  0.67049,\n",
       "          1.     ,  0.36483,  0.60744,  1.     ,  0.34294,  0.58339,\n",
       "          1.     ,  0.62738,  0.48843,  1.     ,  0.64434,  0.47914,\n",
       "          0.64167, -3.18497,  1.     ,  1.     , -3.60859,  0.88895,\n",
       "          1.     ,  0.32331,  0.64404,  1.     ,  0.3175 ,  0.81147,\n",
       "          1.     ,  0.36536,  0.43568,  1.     ,  0.63298,  0.89793,\n",
       "          1.     ,  0.63298,  0.89793, -1.32018,  0.64351,  1.     ,\n",
       "         -1.67363,  0.70892,  1.     ],\n",
       "        [-0.59102,  1.     , -0.13844, -0.57881,  1.     , -0.01714,\n",
       "         -0.57881,  1.     , -0.01714, -0.57247,  1.     , -0.01937,\n",
       "         -4.81608,  1.     ,  0.61388, -4.81608,  1.     ,  0.61388,\n",
       "         -2.75041,  0.55716,  1.     , -2.40696,  0.42871,  1.     ,\n",
       "         -2.14315,  0.33005,  1.     , -1.93417,  0.25189,  1.     ,\n",
       "         -1.72051,  0.19535,  1.     , -1.85976,  0.23781,  1.     ,\n",
       "         -1.76742,  0.19956,  1.     , -1.76742,  0.19956,  1.     ,\n",
       "         -1.52537,  0.86511,  1.     , -1.52537,  0.86511,  1.     ,\n",
       "         -1.76569,  0.9494 ,  1.     , -1.59488,  1.     ,  0.88168,\n",
       "         -1.26677,  1.     ,  0.81833, -1.18403,  1.     ,  0.83816,\n",
       "         -1.18403,  1.     ,  0.83816, -1.17105, -0.75209,  1.     ,\n",
       "         -1.17105, -0.75209,  1.     , -0.401  , -1.17722,  1.     ,\n",
       "         -0.24389, -1.19154,  1.     ,  0.06207, -1.21942,  1.     ,\n",
       "          0.06207, -1.21942,  1.     ,  0.49347, -0.74731,  1.     ,\n",
       "          0.49347, -0.74731,  1.     ,  0.77774, -0.73079,  1.     ,\n",
       "          1.     , -0.74343,  0.87118,  1.     , -0.81614,  0.46341,\n",
       "          1.     , -0.81614,  0.46341,  1.     , -0.94398,  0.69306,\n",
       "          1.     , -0.94398,  0.69306,  1.     ,  0.31398,  0.33436,\n",
       "          1.     ,  0.3714 ,  0.67049,  1.     ,  0.36483,  0.60744,\n",
       "          1.     ,  0.34294,  0.58339,  1.     ,  0.62738,  0.48843,\n",
       "          1.     ,  0.64434,  0.47914,  0.64167, -3.18497,  1.     ,\n",
       "          1.     , -3.60859,  0.88895,  1.     ,  0.32331,  0.64404,\n",
       "          1.     ,  0.3175 ,  0.81147,  1.     ,  0.36536,  0.43568,\n",
       "          1.     ,  0.63298,  0.89793,  1.     ,  0.63298,  0.89793,\n",
       "         -1.32018,  0.64351,  1.     , -1.67363,  0.70892,  1.     ,\n",
       "         -2.42267,  0.84753,  1.     ],\n",
       "        [-0.57881,  1.     , -0.01714, -0.57881,  1.     , -0.01714,\n",
       "         -0.57247,  1.     , -0.01937, -4.81608,  1.     ,  0.61388,\n",
       "         -4.81608,  1.     ,  0.61388, -2.75041,  0.55716,  1.     ,\n",
       "         -2.40696,  0.42871,  1.     , -2.14315,  0.33005,  1.     ,\n",
       "         -1.93417,  0.25189,  1.     , -1.72051,  0.19535,  1.     ,\n",
       "         -1.85976,  0.23781,  1.     , -1.76742,  0.19956,  1.     ,\n",
       "         -1.76742,  0.19956,  1.     , -1.52537,  0.86511,  1.     ,\n",
       "         -1.52537,  0.86511,  1.     , -1.76569,  0.9494 ,  1.     ,\n",
       "         -1.59488,  1.     ,  0.88168, -1.26677,  1.     ,  0.81833,\n",
       "         -1.18403,  1.     ,  0.83816, -1.18403,  1.     ,  0.83816,\n",
       "         -1.17105, -0.75209,  1.     , -1.17105, -0.75209,  1.     ,\n",
       "         -0.401  , -1.17722,  1.     , -0.24389, -1.19154,  1.     ,\n",
       "          0.06207, -1.21942,  1.     ,  0.06207, -1.21942,  1.     ,\n",
       "          0.49347, -0.74731,  1.     ,  0.49347, -0.74731,  1.     ,\n",
       "          0.77774, -0.73079,  1.     ,  1.     , -0.74343,  0.87118,\n",
       "          1.     , -0.81614,  0.46341,  1.     , -0.81614,  0.46341,\n",
       "          1.     , -0.94398,  0.69306,  1.     , -0.94398,  0.69306,\n",
       "          1.     ,  0.31398,  0.33436,  1.     ,  0.3714 ,  0.67049,\n",
       "          1.     ,  0.36483,  0.60744,  1.     ,  0.34294,  0.58339,\n",
       "          1.     ,  0.62738,  0.48843,  1.     ,  0.64434,  0.47914,\n",
       "          0.64167, -3.18497,  1.     ,  1.     , -3.60859,  0.88895,\n",
       "          1.     ,  0.32331,  0.64404,  1.     ,  0.3175 ,  0.81147,\n",
       "          1.     ,  0.36536,  0.43568,  1.     ,  0.63298,  0.89793,\n",
       "          1.     ,  0.63298,  0.89793, -1.32018,  0.64351,  1.     ,\n",
       "         -1.67363,  0.70892,  1.     , -2.42267,  0.84753,  1.     ,\n",
       "         -2.42267,  0.84753,  1.     ]]),\n",
       " (236, 153),\n",
       " array([4.33, 4.91, 5.29, 5.36, 5.5 ]),\n",
       " (236,))"
      ]
     },
     "execution_count": 30,
     "metadata": {},
     "output_type": "execute_result"
    }
   ],
   "source": [
    "fea_mat = []\n",
    "label_mat = []\n",
    "for i in range(51, len(trans_mat)):\n",
    "    feature = trans_mat[i - 51: i].reshape([-1])\n",
    "    fea_mat.append(feature.tolist())\n",
    "    label_mat.append(float(data_df['1 Yr'][i]))\n",
    "fea_mat = np.array(fea_mat)\n",
    "label_mat = np.array(label_mat)\n",
    "fea_mat[0:5], fea_mat.shape, label_mat[0:5], label_mat.shape"
   ]
  },
  {
   "cell_type": "code",
   "execution_count": 32,
   "metadata": {},
   "outputs": [],
   "source": [
    "X_train, X_test, y_train, y_test = \\\n",
    "    fea_mat[0:200], fea_mat[200:], label_mat[0:200], label_mat[200:]"
   ]
  },
  {
   "cell_type": "code",
   "execution_count": 36,
   "metadata": {},
   "outputs": [],
   "source": [
    "reg = LinearRegression().fit(X_train, y_train)"
   ]
  },
  {
   "cell_type": "code",
   "execution_count": 37,
   "metadata": {},
   "outputs": [
    {
     "data": {
      "text/plain": [
       "0.9867969116777805"
      ]
     },
     "execution_count": 37,
     "metadata": {},
     "output_type": "execute_result"
    }
   ],
   "source": [
    "reg.score(X_train, y_train)"
   ]
  },
  {
   "cell_type": "code",
   "execution_count": 38,
   "metadata": {
    "collapsed": true
   },
   "outputs": [
    {
     "data": {
      "text/plain": [
       "array([ 0.02905, -0.1052 ,  0.10827,  0.0325 , -0.11537, -0.31399,\n",
       "       -0.00266,  0.02023, -0.12379,  0.02266, -0.07715, -0.17471,\n",
       "        0.03074, -0.10796, -0.2697 ,  0.01458, -0.05503,  0.32127,\n",
       "       -0.00389,  0.01611, -0.58591,  0.02676, -0.0938 , -0.41479,\n",
       "        0.03077, -0.11572,  0.30665, -0.01036,  0.04457,  0.00215,\n",
       "        0.01377, -0.03679, -0.03059, -0.01081,  0.06227,  0.07543,\n",
       "        0.00996, -0.02821, -0.15019,  0.00485, -0.01189,  0.04903,\n",
       "        0.00561, -0.01094, -0.0498 , -0.01546,  0.06174, -0.20011,\n",
       "        0.00447, -0.0009 , -0.26384,  0.0505 , -0.15332, -0.27886,\n",
       "        0.02097, -0.03755,  0.01253,  0.02   , -0.06151,  0.3542 ,\n",
       "        0.0122 ,  0.00136,  0.37607,  0.03783, -0.10204,  0.01243,\n",
       "        0.03276, -0.12843, -0.11454,  0.00921, -0.03788,  0.30057,\n",
       "        0.01518, -0.0132 , -0.13231,  0.02653, -0.06803, -0.0819 ,\n",
       "       -0.00524,  0.01355,  0.76418,  0.00005,  0.03147,  0.84272,\n",
       "       -0.00019,  0.01611,  0.30292,  0.01957, -0.06837, -0.07531,\n",
       "        0.02523, -0.0831 , -0.55614,  0.01281, -0.01997, -0.00648,\n",
       "        0.00115, -0.     , -0.22259,  0.03201, -0.09588,  0.12307,\n",
       "        0.02836, -0.05303,  0.66607,  0.01292, -0.02726,  0.35765,\n",
       "        0.00955, -0.01161,  0.2866 ,  0.0129 , -0.02793, -0.11249,\n",
       "        0.02629, -0.07545, -0.05413,  0.01399, -0.02636, -0.25993,\n",
       "        0.00572, -0.00998, -0.19872,  0.00013,  0.00476,  0.57606,\n",
       "        0.00975, -0.0122 ,  0.40926, -0.00592,  0.02377,  0.86344,\n",
       "       -0.01772,  0.05319,  0.49369, -0.007  ,  0.03088,  0.34927,\n",
       "        0.00784, -0.00194,  0.4063 ,  0.00662, -0.00583, -0.3835 ,\n",
       "       -0.00536,  0.03008, -0.52057,  0.00114,  0.01948,  0.49358,\n",
       "        0.0098 , -0.00411,  0.82447])"
      ]
     },
     "execution_count": 38,
     "metadata": {},
     "output_type": "execute_result"
    }
   ],
   "source": [
    "reg.coef_"
   ]
  },
  {
   "cell_type": "code",
   "execution_count": 39,
   "metadata": {},
   "outputs": [
    {
     "data": {
      "text/plain": [
       "2.1747740897359114"
      ]
     },
     "execution_count": 39,
     "metadata": {},
     "output_type": "execute_result"
    }
   ],
   "source": [
    "reg.intercept_ "
   ]
  },
  {
   "cell_type": "code",
   "execution_count": 40,
   "metadata": {},
   "outputs": [
    {
     "data": {
      "text/plain": [
       "-50.51518164431626"
      ]
     },
     "execution_count": 40,
     "metadata": {},
     "output_type": "execute_result"
    }
   ],
   "source": [
    "reg.score(X_test, y_test)"
   ]
  },
  {
   "cell_type": "code",
   "execution_count": 42,
   "metadata": {},
   "outputs": [
    {
     "data": {
      "text/plain": [
       "array([-0.05803, -0.09737,  0.11151,  0.10342,  0.23368,  0.97081,\n",
       "        0.93675,  1.0901 ,  1.37167,  1.56284,  1.67239,  1.59918,\n",
       "        1.73321,  1.72546,  1.80998,  2.03575,  2.29352,  2.44422,\n",
       "        2.53797,  2.64693,  2.71927,  2.79606,  2.78192,  3.01572,\n",
       "        3.11789,  3.10161,  3.19201,  3.37853,  3.49213,  3.4058 ,\n",
       "        3.40729,  3.45426,  3.5357 ,  3.5758 ,  3.60981,  3.67218])"
      ]
     },
     "execution_count": 42,
     "metadata": {},
     "output_type": "execute_result"
    }
   ],
   "source": [
    "reg.predict(X_test)"
   ]
  },
  {
   "cell_type": "code",
   "execution_count": 43,
   "metadata": {},
   "outputs": [
    {
     "data": {
      "text/plain": [
       "array([0.18, 0.15, 0.16, 0.14, 0.11, 0.15, 0.13, 0.1 , 0.1 , 0.13, 0.1 ,\n",
       "       0.11, 0.13, 0.1 , 0.13, 0.27, 0.25, 0.26, 0.28, 0.39, 0.31, 0.51,\n",
       "       0.7 , 0.47, 0.68, 0.62, 0.7 , 0.45, 0.5 , 0.6 , 0.65, 0.82, 0.92,\n",
       "       0.83, 0.92, 1.01])"
      ]
     },
     "execution_count": 43,
     "metadata": {},
     "output_type": "execute_result"
    }
   ],
   "source": [
    "y_test"
   ]
  },
  {
   "cell_type": "markdown",
   "metadata": {},
   "source": [
    "# Kernal PCA: Linear"
   ]
  },
  {
   "cell_type": "code",
   "execution_count": 21,
   "metadata": {},
   "outputs": [],
   "source": [
    "transformer = KernelPCA(n_components=6, kernel='linear')\n",
    "X_transformed = transformer.fit_transform(data_mat)"
   ]
  },
  {
   "cell_type": "code",
   "execution_count": 22,
   "metadata": {},
   "outputs": [
    {
     "data": {
      "text/plain": [
       "(287, 6)"
      ]
     },
     "execution_count": 22,
     "metadata": {},
     "output_type": "execute_result"
    }
   ],
   "source": [
    "X_transformed.shape"
   ]
  },
  {
   "cell_type": "code",
   "execution_count": 23,
   "metadata": {},
   "outputs": [
    {
     "data": {
      "text/plain": [
       "array([[-0.54186, -0.92675, -0.14558,  0.16047, -0.017  , -0.00091],\n",
       "       [-0.54853, -0.92755, -0.12736,  0.19154, -0.02358, -0.00386],\n",
       "       [-0.53925, -0.92792, -0.11876,  0.16663, -0.01313, -0.00362],\n",
       "       ...,\n",
       "       [ 0.47131,  0.38694,  0.14735,  0.10834,  0.01393,  0.12878],\n",
       "       [ 0.47131,  0.38694,  0.14735,  0.10834,  0.01393,  0.12878],\n",
       "       [ 0.47174,  0.38787,  0.15195,  0.11477,  0.02336,  0.20239]])"
      ]
     },
     "execution_count": 23,
     "metadata": {},
     "output_type": "execute_result"
    }
   ],
   "source": [
    "X_transformed"
   ]
  },
  {
   "cell_type": "markdown",
   "metadata": {},
   "source": [
    "# Prepare data for linear regression"
   ]
  },
  {
   "cell_type": "code",
   "execution_count": null,
   "metadata": {},
   "outputs": [],
   "source": []
  },
  {
   "cell_type": "markdown",
   "metadata": {},
   "source": [
    "# Check Data"
   ]
  },
  {
   "cell_type": "code",
   "execution_count": 24,
   "metadata": {},
   "outputs": [
    {
     "data": {
      "text/plain": [
       "904"
      ]
     },
     "execution_count": 24,
     "metadata": {},
     "output_type": "execute_result"
    }
   ],
   "source": [
    "len(sd_df)"
   ]
  },
  {
   "cell_type": "code",
   "execution_count": 25,
   "metadata": {
    "collapsed": true
   },
   "outputs": [
    {
     "data": {
      "text/html": [
       "<div>\n",
       "<style scoped>\n",
       "    .dataframe tbody tr th:only-of-type {\n",
       "        vertical-align: middle;\n",
       "    }\n",
       "\n",
       "    .dataframe tbody tr th {\n",
       "        vertical-align: top;\n",
       "    }\n",
       "\n",
       "    .dataframe thead th {\n",
       "        text-align: right;\n",
       "    }\n",
       "</style>\n",
       "<table border=\"1\" class=\"dataframe\">\n",
       "  <thead>\n",
       "    <tr style=\"text-align: right;\">\n",
       "      <th></th>\n",
       "      <th>Year</th>\n",
       "      <th>Month</th>\n",
       "      <th>Day</th>\n",
       "      <th>Federal Funds Target Rate</th>\n",
       "      <th>Federal Funds Upper Target</th>\n",
       "      <th>Federal Funds Lower Target</th>\n",
       "      <th>Effective Federal Funds Rate</th>\n",
       "      <th>Real GDP (Percent Change)</th>\n",
       "      <th>Unemployment Rate</th>\n",
       "      <th>Inflation Rate</th>\n",
       "      <th>Date</th>\n",
       "    </tr>\n",
       "  </thead>\n",
       "  <tbody>\n",
       "    <tr>\n",
       "      <th>500</th>\n",
       "      <td>1990</td>\n",
       "      <td>2</td>\n",
       "      <td>1</td>\n",
       "      <td>8.25</td>\n",
       "      <td>NaN</td>\n",
       "      <td>NaN</td>\n",
       "      <td>8.24</td>\n",
       "      <td>NaN</td>\n",
       "      <td>5.3</td>\n",
       "      <td>4.6</td>\n",
       "      <td>02/01/90</td>\n",
       "    </tr>\n",
       "    <tr>\n",
       "      <th>501</th>\n",
       "      <td>1990</td>\n",
       "      <td>3</td>\n",
       "      <td>1</td>\n",
       "      <td>8.25</td>\n",
       "      <td>NaN</td>\n",
       "      <td>NaN</td>\n",
       "      <td>8.28</td>\n",
       "      <td>NaN</td>\n",
       "      <td>5.2</td>\n",
       "      <td>4.9</td>\n",
       "      <td>03/01/90</td>\n",
       "    </tr>\n",
       "    <tr>\n",
       "      <th>502</th>\n",
       "      <td>1990</td>\n",
       "      <td>4</td>\n",
       "      <td>1</td>\n",
       "      <td>8.25</td>\n",
       "      <td>NaN</td>\n",
       "      <td>NaN</td>\n",
       "      <td>8.26</td>\n",
       "      <td>1.6</td>\n",
       "      <td>5.4</td>\n",
       "      <td>4.8</td>\n",
       "      <td>04/01/90</td>\n",
       "    </tr>\n",
       "  </tbody>\n",
       "</table>\n",
       "</div>"
      ],
      "text/plain": [
       "     Year  Month  Day  Federal Funds Target Rate  Federal Funds Upper Target  \\\n",
       "500  1990      2    1                       8.25                         NaN   \n",
       "501  1990      3    1                       8.25                         NaN   \n",
       "502  1990      4    1                       8.25                         NaN   \n",
       "\n",
       "     Federal Funds Lower Target  Effective Federal Funds Rate  \\\n",
       "500                         NaN                          8.24   \n",
       "501                         NaN                          8.28   \n",
       "502                         NaN                          8.26   \n",
       "\n",
       "     Real GDP (Percent Change)  Unemployment Rate  Inflation Rate      Date  \n",
       "500                        NaN                5.3             4.6  02/01/90  \n",
       "501                        NaN                5.2             4.9  03/01/90  \n",
       "502                        1.6                5.4             4.8  04/01/90  "
      ]
     },
     "execution_count": 25,
     "metadata": {},
     "output_type": "execute_result"
    }
   ],
   "source": [
    "sd_df[500: 503]"
   ]
  },
  {
   "cell_type": "code",
   "execution_count": null,
   "metadata": {},
   "outputs": [],
   "source": []
  }
 ],
 "metadata": {
  "kernelspec": {
   "display_name": "Python 3",
   "language": "python",
   "name": "python3"
  },
  "language_info": {
   "codemirror_mode": {
    "name": "ipython",
    "version": 3
   },
   "file_extension": ".py",
   "mimetype": "text/x-python",
   "name": "python",
   "nbconvert_exporter": "python",
   "pygments_lexer": "ipython3",
   "version": "3.6.7"
  }
 },
 "nbformat": 4,
 "nbformat_minor": 2
}
